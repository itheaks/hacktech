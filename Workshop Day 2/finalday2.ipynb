{
  "nbformat": 4,
  "nbformat_minor": 0,
  "metadata": {
    "colab": {
      "provenance": []
    },
    "kernelspec": {
      "name": "python3",
      "display_name": "Python 3"
    },
    "language_info": {
      "name": "python"
    }
  },
  "cells": [
    {
      "cell_type": "code",
      "execution_count": 1,
      "metadata": {
        "colab": {
          "base_uri": "https://localhost:8080/",
          "height": 0
        },
        "id": "zJ6BB7h53O4A",
        "outputId": "b560852e-1c6b-4e96-b7b7-1e4ff0d6068e"
      },
      "outputs": [
        {
          "output_type": "stream",
          "name": "stdout",
          "text": [
            "Requirement already satisfied: numpy in /usr/local/lib/python3.10/dist-packages (1.23.5)\n"
          ]
        }
      ],
      "source": [
        "!pip install numpy"
      ]
    },
    {
      "cell_type": "code",
      "source": [
        "import pandas as pd\n",
        "from google.colab import drive\n",
        "drive.mount('/content/drive')"
      ],
      "metadata": {
        "colab": {
          "base_uri": "https://localhost:8080/",
          "height": 0
        },
        "id": "jbepez-13RGk",
        "outputId": "afcce8bc-770c-44f0-f9d3-af2b8b7a1ff5"
      },
      "execution_count": 2,
      "outputs": [
        {
          "output_type": "stream",
          "name": "stdout",
          "text": [
            "Mounted at /content/drive\n"
          ]
        }
      ]
    },
    {
      "cell_type": "code",
      "source": [
        "path_to_csv_file = '/content/drive/MyDrive/movies.csv'\n",
        "df = pd.read_csv(path_to_csv_file)\n",
        "\n",
        "df.head()"
      ],
      "metadata": {
        "colab": {
          "base_uri": "https://localhost:8080/",
          "height": 206
        },
        "id": "UiK5CJFn3XAT",
        "outputId": "9a16e376-fa82-47fa-97e5-0698703508b2"
      },
      "execution_count": 3,
      "outputs": [
        {
          "output_type": "execute_result",
          "data": {
            "text/plain": [
              "   Unnamed: 0                Movie Name Year of Release  Watch Time  \\\n",
              "0           0  The Shawshank Redemption            1994         142   \n",
              "1           1             The Godfather            1972         175   \n",
              "2           2           The Dark Knight            2008         152   \n",
              "3           3          Schindler's List            1993         195   \n",
              "4           4              12 Angry Men            1957          96   \n",
              "\n",
              "   Movie Rating  Metascore of movie   Gross      Votes  \\\n",
              "0           9.3                82.0   28.34  27,77,378   \n",
              "1           9.2               100.0  134.97  19,33,588   \n",
              "2           9.0                84.0  534.86  27,54,087   \n",
              "3           9.0                95.0    96.9  13,97,886   \n",
              "4           9.0                97.0    4.36   8,24,211   \n",
              "\n",
              "                                         Description  \n",
              "0  Over the course of several years, two convicts...  \n",
              "1  Don Vito Corleone, head of a mafia family, dec...  \n",
              "2  When the menace known as the Joker wreaks havo...  \n",
              "3  In German-occupied Poland during World War II,...  \n",
              "4  The jury in a New York City murder trial is fr...  "
            ],
            "text/html": [
              "\n",
              "  <div id=\"df-d7444aa1-3c49-4a0c-bd15-17f0bffbefd4\" class=\"colab-df-container\">\n",
              "    <div>\n",
              "<style scoped>\n",
              "    .dataframe tbody tr th:only-of-type {\n",
              "        vertical-align: middle;\n",
              "    }\n",
              "\n",
              "    .dataframe tbody tr th {\n",
              "        vertical-align: top;\n",
              "    }\n",
              "\n",
              "    .dataframe thead th {\n",
              "        text-align: right;\n",
              "    }\n",
              "</style>\n",
              "<table border=\"1\" class=\"dataframe\">\n",
              "  <thead>\n",
              "    <tr style=\"text-align: right;\">\n",
              "      <th></th>\n",
              "      <th>Unnamed: 0</th>\n",
              "      <th>Movie Name</th>\n",
              "      <th>Year of Release</th>\n",
              "      <th>Watch Time</th>\n",
              "      <th>Movie Rating</th>\n",
              "      <th>Metascore of movie</th>\n",
              "      <th>Gross</th>\n",
              "      <th>Votes</th>\n",
              "      <th>Description</th>\n",
              "    </tr>\n",
              "  </thead>\n",
              "  <tbody>\n",
              "    <tr>\n",
              "      <th>0</th>\n",
              "      <td>0</td>\n",
              "      <td>The Shawshank Redemption</td>\n",
              "      <td>1994</td>\n",
              "      <td>142</td>\n",
              "      <td>9.3</td>\n",
              "      <td>82.0</td>\n",
              "      <td>28.34</td>\n",
              "      <td>27,77,378</td>\n",
              "      <td>Over the course of several years, two convicts...</td>\n",
              "    </tr>\n",
              "    <tr>\n",
              "      <th>1</th>\n",
              "      <td>1</td>\n",
              "      <td>The Godfather</td>\n",
              "      <td>1972</td>\n",
              "      <td>175</td>\n",
              "      <td>9.2</td>\n",
              "      <td>100.0</td>\n",
              "      <td>134.97</td>\n",
              "      <td>19,33,588</td>\n",
              "      <td>Don Vito Corleone, head of a mafia family, dec...</td>\n",
              "    </tr>\n",
              "    <tr>\n",
              "      <th>2</th>\n",
              "      <td>2</td>\n",
              "      <td>The Dark Knight</td>\n",
              "      <td>2008</td>\n",
              "      <td>152</td>\n",
              "      <td>9.0</td>\n",
              "      <td>84.0</td>\n",
              "      <td>534.86</td>\n",
              "      <td>27,54,087</td>\n",
              "      <td>When the menace known as the Joker wreaks havo...</td>\n",
              "    </tr>\n",
              "    <tr>\n",
              "      <th>3</th>\n",
              "      <td>3</td>\n",
              "      <td>Schindler's List</td>\n",
              "      <td>1993</td>\n",
              "      <td>195</td>\n",
              "      <td>9.0</td>\n",
              "      <td>95.0</td>\n",
              "      <td>96.9</td>\n",
              "      <td>13,97,886</td>\n",
              "      <td>In German-occupied Poland during World War II,...</td>\n",
              "    </tr>\n",
              "    <tr>\n",
              "      <th>4</th>\n",
              "      <td>4</td>\n",
              "      <td>12 Angry Men</td>\n",
              "      <td>1957</td>\n",
              "      <td>96</td>\n",
              "      <td>9.0</td>\n",
              "      <td>97.0</td>\n",
              "      <td>4.36</td>\n",
              "      <td>8,24,211</td>\n",
              "      <td>The jury in a New York City murder trial is fr...</td>\n",
              "    </tr>\n",
              "  </tbody>\n",
              "</table>\n",
              "</div>\n",
              "    <div class=\"colab-df-buttons\">\n",
              "\n",
              "  <div class=\"colab-df-container\">\n",
              "    <button class=\"colab-df-convert\" onclick=\"convertToInteractive('df-d7444aa1-3c49-4a0c-bd15-17f0bffbefd4')\"\n",
              "            title=\"Convert this dataframe to an interactive table.\"\n",
              "            style=\"display:none;\">\n",
              "\n",
              "  <svg xmlns=\"http://www.w3.org/2000/svg\" height=\"24px\" viewBox=\"0 -960 960 960\">\n",
              "    <path d=\"M120-120v-720h720v720H120Zm60-500h600v-160H180v160Zm220 220h160v-160H400v160Zm0 220h160v-160H400v160ZM180-400h160v-160H180v160Zm440 0h160v-160H620v160ZM180-180h160v-160H180v160Zm440 0h160v-160H620v160Z\"/>\n",
              "  </svg>\n",
              "    </button>\n",
              "\n",
              "  <style>\n",
              "    .colab-df-container {\n",
              "      display:flex;\n",
              "      gap: 12px;\n",
              "    }\n",
              "\n",
              "    .colab-df-convert {\n",
              "      background-color: #E8F0FE;\n",
              "      border: none;\n",
              "      border-radius: 50%;\n",
              "      cursor: pointer;\n",
              "      display: none;\n",
              "      fill: #1967D2;\n",
              "      height: 32px;\n",
              "      padding: 0 0 0 0;\n",
              "      width: 32px;\n",
              "    }\n",
              "\n",
              "    .colab-df-convert:hover {\n",
              "      background-color: #E2EBFA;\n",
              "      box-shadow: 0px 1px 2px rgba(60, 64, 67, 0.3), 0px 1px 3px 1px rgba(60, 64, 67, 0.15);\n",
              "      fill: #174EA6;\n",
              "    }\n",
              "\n",
              "    .colab-df-buttons div {\n",
              "      margin-bottom: 4px;\n",
              "    }\n",
              "\n",
              "    [theme=dark] .colab-df-convert {\n",
              "      background-color: #3B4455;\n",
              "      fill: #D2E3FC;\n",
              "    }\n",
              "\n",
              "    [theme=dark] .colab-df-convert:hover {\n",
              "      background-color: #434B5C;\n",
              "      box-shadow: 0px 1px 3px 1px rgba(0, 0, 0, 0.15);\n",
              "      filter: drop-shadow(0px 1px 2px rgba(0, 0, 0, 0.3));\n",
              "      fill: #FFFFFF;\n",
              "    }\n",
              "  </style>\n",
              "\n",
              "    <script>\n",
              "      const buttonEl =\n",
              "        document.querySelector('#df-d7444aa1-3c49-4a0c-bd15-17f0bffbefd4 button.colab-df-convert');\n",
              "      buttonEl.style.display =\n",
              "        google.colab.kernel.accessAllowed ? 'block' : 'none';\n",
              "\n",
              "      async function convertToInteractive(key) {\n",
              "        const element = document.querySelector('#df-d7444aa1-3c49-4a0c-bd15-17f0bffbefd4');\n",
              "        const dataTable =\n",
              "          await google.colab.kernel.invokeFunction('convertToInteractive',\n",
              "                                                    [key], {});\n",
              "        if (!dataTable) return;\n",
              "\n",
              "        const docLinkHtml = 'Like what you see? Visit the ' +\n",
              "          '<a target=\"_blank\" href=https://colab.research.google.com/notebooks/data_table.ipynb>data table notebook</a>'\n",
              "          + ' to learn more about interactive tables.';\n",
              "        element.innerHTML = '';\n",
              "        dataTable['output_type'] = 'display_data';\n",
              "        await google.colab.output.renderOutput(dataTable, element);\n",
              "        const docLink = document.createElement('div');\n",
              "        docLink.innerHTML = docLinkHtml;\n",
              "        element.appendChild(docLink);\n",
              "      }\n",
              "    </script>\n",
              "  </div>\n",
              "\n",
              "\n",
              "<div id=\"df-9cc2bec9-cfe6-4a20-bcf8-7463790fb3a0\">\n",
              "  <button class=\"colab-df-quickchart\" onclick=\"quickchart('df-9cc2bec9-cfe6-4a20-bcf8-7463790fb3a0')\"\n",
              "            title=\"Suggest charts.\"\n",
              "            style=\"display:none;\">\n",
              "\n",
              "<svg xmlns=\"http://www.w3.org/2000/svg\" height=\"24px\"viewBox=\"0 0 24 24\"\n",
              "     width=\"24px\">\n",
              "    <g>\n",
              "        <path d=\"M19 3H5c-1.1 0-2 .9-2 2v14c0 1.1.9 2 2 2h14c1.1 0 2-.9 2-2V5c0-1.1-.9-2-2-2zM9 17H7v-7h2v7zm4 0h-2V7h2v10zm4 0h-2v-4h2v4z\"/>\n",
              "    </g>\n",
              "</svg>\n",
              "  </button>\n",
              "\n",
              "<style>\n",
              "  .colab-df-quickchart {\n",
              "      --bg-color: #E8F0FE;\n",
              "      --fill-color: #1967D2;\n",
              "      --hover-bg-color: #E2EBFA;\n",
              "      --hover-fill-color: #174EA6;\n",
              "      --disabled-fill-color: #AAA;\n",
              "      --disabled-bg-color: #DDD;\n",
              "  }\n",
              "\n",
              "  [theme=dark] .colab-df-quickchart {\n",
              "      --bg-color: #3B4455;\n",
              "      --fill-color: #D2E3FC;\n",
              "      --hover-bg-color: #434B5C;\n",
              "      --hover-fill-color: #FFFFFF;\n",
              "      --disabled-bg-color: #3B4455;\n",
              "      --disabled-fill-color: #666;\n",
              "  }\n",
              "\n",
              "  .colab-df-quickchart {\n",
              "    background-color: var(--bg-color);\n",
              "    border: none;\n",
              "    border-radius: 50%;\n",
              "    cursor: pointer;\n",
              "    display: none;\n",
              "    fill: var(--fill-color);\n",
              "    height: 32px;\n",
              "    padding: 0;\n",
              "    width: 32px;\n",
              "  }\n",
              "\n",
              "  .colab-df-quickchart:hover {\n",
              "    background-color: var(--hover-bg-color);\n",
              "    box-shadow: 0 1px 2px rgba(60, 64, 67, 0.3), 0 1px 3px 1px rgba(60, 64, 67, 0.15);\n",
              "    fill: var(--button-hover-fill-color);\n",
              "  }\n",
              "\n",
              "  .colab-df-quickchart-complete:disabled,\n",
              "  .colab-df-quickchart-complete:disabled:hover {\n",
              "    background-color: var(--disabled-bg-color);\n",
              "    fill: var(--disabled-fill-color);\n",
              "    box-shadow: none;\n",
              "  }\n",
              "\n",
              "  .colab-df-spinner {\n",
              "    border: 2px solid var(--fill-color);\n",
              "    border-color: transparent;\n",
              "    border-bottom-color: var(--fill-color);\n",
              "    animation:\n",
              "      spin 1s steps(1) infinite;\n",
              "  }\n",
              "\n",
              "  @keyframes spin {\n",
              "    0% {\n",
              "      border-color: transparent;\n",
              "      border-bottom-color: var(--fill-color);\n",
              "      border-left-color: var(--fill-color);\n",
              "    }\n",
              "    20% {\n",
              "      border-color: transparent;\n",
              "      border-left-color: var(--fill-color);\n",
              "      border-top-color: var(--fill-color);\n",
              "    }\n",
              "    30% {\n",
              "      border-color: transparent;\n",
              "      border-left-color: var(--fill-color);\n",
              "      border-top-color: var(--fill-color);\n",
              "      border-right-color: var(--fill-color);\n",
              "    }\n",
              "    40% {\n",
              "      border-color: transparent;\n",
              "      border-right-color: var(--fill-color);\n",
              "      border-top-color: var(--fill-color);\n",
              "    }\n",
              "    60% {\n",
              "      border-color: transparent;\n",
              "      border-right-color: var(--fill-color);\n",
              "    }\n",
              "    80% {\n",
              "      border-color: transparent;\n",
              "      border-right-color: var(--fill-color);\n",
              "      border-bottom-color: var(--fill-color);\n",
              "    }\n",
              "    90% {\n",
              "      border-color: transparent;\n",
              "      border-bottom-color: var(--fill-color);\n",
              "    }\n",
              "  }\n",
              "</style>\n",
              "\n",
              "  <script>\n",
              "    async function quickchart(key) {\n",
              "      const quickchartButtonEl =\n",
              "        document.querySelector('#' + key + ' button');\n",
              "      quickchartButtonEl.disabled = true;  // To prevent multiple clicks.\n",
              "      quickchartButtonEl.classList.add('colab-df-spinner');\n",
              "      try {\n",
              "        const charts = await google.colab.kernel.invokeFunction(\n",
              "            'suggestCharts', [key], {});\n",
              "      } catch (error) {\n",
              "        console.error('Error during call to suggestCharts:', error);\n",
              "      }\n",
              "      quickchartButtonEl.classList.remove('colab-df-spinner');\n",
              "      quickchartButtonEl.classList.add('colab-df-quickchart-complete');\n",
              "    }\n",
              "    (() => {\n",
              "      let quickchartButtonEl =\n",
              "        document.querySelector('#df-9cc2bec9-cfe6-4a20-bcf8-7463790fb3a0 button');\n",
              "      quickchartButtonEl.style.display =\n",
              "        google.colab.kernel.accessAllowed ? 'block' : 'none';\n",
              "    })();\n",
              "  </script>\n",
              "</div>\n",
              "    </div>\n",
              "  </div>\n"
            ]
          },
          "metadata": {},
          "execution_count": 3
        }
      ]
    },
    {
      "cell_type": "code",
      "source": [
        "# Load the dataset into a pandas DataFrame.\n",
        "import pandas as pd\n",
        "\n",
        "try:\n",
        "    path_to_csv_file = '/content/drive/MyDrive/movies.csv'\n",
        "    df = pd.read_csv(path_to_csv_file)\n",
        "except FileNotFoundError:\n",
        "    print(\"File 'movies.csv' not found.\")\n",
        "    exit(1)\n",
        "\n",
        "# Display the first few rows of the DataFrame to check the data\n",
        "print(df.head())\n"
      ],
      "metadata": {
        "colab": {
          "base_uri": "https://localhost:8080/",
          "height": 0
        },
        "id": "VkuKZqzb3htX",
        "outputId": "72cc1e98-ddcd-4231-98c6-d86f3f682a9c"
      },
      "execution_count": 6,
      "outputs": [
        {
          "output_type": "stream",
          "name": "stdout",
          "text": [
            "   Unnamed: 0                Movie Name Year of Release  Watch Time  \\\n",
            "0           0  The Shawshank Redemption            1994         142   \n",
            "1           1             The Godfather            1972         175   \n",
            "2           2           The Dark Knight            2008         152   \n",
            "3           3          Schindler's List            1993         195   \n",
            "4           4              12 Angry Men            1957          96   \n",
            "\n",
            "   Movie Rating  Metascore of movie   Gross      Votes  \\\n",
            "0           9.3                82.0   28.34  27,77,378   \n",
            "1           9.2               100.0  134.97  19,33,588   \n",
            "2           9.0                84.0  534.86  27,54,087   \n",
            "3           9.0                95.0    96.9  13,97,886   \n",
            "4           9.0                97.0    4.36   8,24,211   \n",
            "\n",
            "                                         Description  \n",
            "0  Over the course of several years, two convicts...  \n",
            "1  Don Vito Corleone, head of a mafia family, dec...  \n",
            "2  When the menace known as the Joker wreaks havo...  \n",
            "3  In German-occupied Poland during World War II,...  \n",
            "4  The jury in a New York City murder trial is fr...  \n"
          ]
        }
      ]
    },
    {
      "cell_type": "code",
      "source": [
        "# Preprocess the data by handling any missing values and data types.\n",
        "missing_values = df.isnull().sum()\n",
        "print(\"Missing values:\\n\", missing_values)"
      ],
      "metadata": {
        "colab": {
          "base_uri": "https://localhost:8080/",
          "height": 0
        },
        "id": "86wTyst43zUk",
        "outputId": "f7de56f5-2358-4c58-dde4-98fe112b3766"
      },
      "execution_count": 7,
      "outputs": [
        {
          "output_type": "stream",
          "name": "stdout",
          "text": [
            "Missing values:\n",
            " Unnamed: 0              0\n",
            "Movie Name              0\n",
            "Year of Release         0\n",
            "Watch Time              0\n",
            "Movie Rating            0\n",
            "Metascore of movie    155\n",
            "Gross                 162\n",
            "Votes                   0\n",
            "Description             0\n",
            "dtype: int64\n"
          ]
        }
      ]
    },
    {
      "cell_type": "code",
      "source": [
        "# Calculate the following statistics for the dataset:\n",
        "# The average movie rating.\n",
        "\n",
        "average_rating = df[\"Movie Rating\"].mean()\n",
        "print(\"Average Movie Rating:\", average_rating)"
      ],
      "metadata": {
        "colab": {
          "base_uri": "https://localhost:8080/",
          "height": 0
        },
        "id": "kzGUiQpR4NlL",
        "outputId": "73c51f94-b032-40e6-acf3-c7cfa0f9cc3d"
      },
      "execution_count": 8,
      "outputs": [
        {
          "output_type": "stream",
          "name": "stdout",
          "text": [
            "Average Movie Rating: 7.9702\n"
          ]
        }
      ]
    },
    {
      "cell_type": "code",
      "source": [
        "import pandas as pd\n",
        "\n",
        "\n",
        "# Find the year of the highest-grossing movie\n",
        "\n",
        "if not pd.api.types.is_string_dtype(df[\"Gross\"]):\n",
        "    # If it's not a string, convert it to string\n",
        "    df[\"Gross\"] = df[\"Gross\"].astype(str)\n",
        "\n",
        "\n",
        "df[\"Gross\"] = df[\"Gross\"].str.replace('[\\$,]', '', regex=True)\n",
        "df[\"Gross\"] = pd.to_numeric(df[\"Gross\"], errors='coerce')\n",
        "\n",
        "highest_grossing_year = df[df[\"Gross\"] == df[\"Gross\"].max()][\"Year of Release\"].values[0]\n",
        "print(\"Year of Highest-Grossing Movie:\", highest_grossing_year)\n"
      ],
      "metadata": {
        "colab": {
          "base_uri": "https://localhost:8080/",
          "height": 0
        },
        "id": "NNHbhl4O4jVO",
        "outputId": "5adbaf87-9d47-4bcd-e2b7-8c1e69c22da7"
      },
      "execution_count": 20,
      "outputs": [
        {
          "output_type": "stream",
          "name": "stdout",
          "text": [
            "Year of Highest-Grossing Movie: 2015\n"
          ]
        }
      ]
    },
    {
      "cell_type": "code",
      "source": [
        "# Find the movie with the longest watch time\n",
        "longest_watch_time_movie = df[df[\"Watch Time\"] == df[\"Watch Time\"].max()][\"Movie Name\"].values[0]\n",
        "print(\"Movie with Longest Watch Time:\", longest_watch_time_movie)\n"
      ],
      "metadata": {
        "colab": {
          "base_uri": "https://localhost:8080/",
          "height": 0
        },
        "id": "LxhUmCEp4u4M",
        "outputId": "849f7532-0739-4c04-e7fd-7ddd201c392d"
      },
      "execution_count": 21,
      "outputs": [
        {
          "output_type": "stream",
          "name": "stdout",
          "text": [
            "Movie with Longest Watch Time: Gangs of Wasseypur\n"
          ]
        }
      ]
    },
    {
      "cell_type": "code",
      "source": [
        "# Create a new DataFrame containing movies released after the year 2000\n",
        "import pandas as pd\n",
        "\n",
        "df[\"Year of Release\"] = df[\"Year of Release\"].str.extract(r'(\\d{4})', expand=False)\n",
        "\n",
        "df[\"Year of Release\"] = pd.to_numeric(df[\"Year of Release\"], errors='coerce')\n",
        "\n",
        "movies_after_2000 = df[df[\"Year of Release\"] > 2000].copy()\n"
      ],
      "metadata": {
        "id": "pj3h7W3D7drd"
      },
      "execution_count": 25,
      "outputs": []
    },
    {
      "cell_type": "code",
      "source": [
        "# Calculate the correlation between \"Movie Rating\" and \"Metascore of Movie\"\n",
        "\n",
        "print(df.columns)\n",
        "\n"
      ],
      "metadata": {
        "colab": {
          "base_uri": "https://localhost:8080/",
          "height": 0
        },
        "id": "D5w7Sfpf8Kb6",
        "outputId": "72fc9459-35ed-45e2-bfc9-4b5b9b5d07b9"
      },
      "execution_count": 27,
      "outputs": [
        {
          "output_type": "stream",
          "name": "stdout",
          "text": [
            "Index(['Unnamed: 0', 'Movie Name', 'Year of Release', 'Watch Time',\n",
            "       'Movie Rating', 'Metascore of movie', 'Gross', 'Votes', 'Description'],\n",
            "      dtype='object')\n"
          ]
        }
      ]
    },
    {
      "cell_type": "code",
      "source": [
        "# Calculate the correlation between \"Movie Rating\" and \"Metascore of Movie\"\n",
        "print(df.columns)\n",
        "\n",
        "correlation = df[\"Movie Rating\"].corr(df[\"Metascore of movie\"])\n",
        "print(\"Correlation between Movie Rating and Metascore:\", correlation)"
      ],
      "metadata": {
        "colab": {
          "base_uri": "https://localhost:8080/",
          "height": 0
        },
        "id": "kElNL47Q9NbD",
        "outputId": "093192f8-9adc-4ee0-f929-ef0ab530f5ea"
      },
      "execution_count": 29,
      "outputs": [
        {
          "output_type": "stream",
          "name": "stdout",
          "text": [
            "Index(['Unnamed: 0', 'Movie Name', 'Year of Release', 'Watch Time',\n",
            "       'Movie Rating', 'Metascore of movie', 'Gross', 'Votes', 'Description'],\n",
            "      dtype='object')\n",
            "Correlation between Movie Rating and Metascore: 0.25696983698437564\n"
          ]
        }
      ]
    },
    {
      "cell_type": "code",
      "source": [
        "# Find the top 5 most popular movies based on the number of votes\n",
        "top_5_popular_movies = df.sort_values(by=\"Votes\", ascending=False).head(5)\n",
        "print(\"Top 5 Most Popular Movies:\\n\", top_5_popular_movies)"
      ],
      "metadata": {
        "colab": {
          "base_uri": "https://localhost:8080/",
          "height": 0
        },
        "id": "hAu-ssxs9leI",
        "outputId": "b324c8e2-66cb-4ebf-b65e-54e63fe924e6"
      },
      "execution_count": 30,
      "outputs": [
        {
          "output_type": "stream",
          "name": "stdout",
          "text": [
            "Top 5 Most Popular Movies:\n",
            "      Unnamed: 0             Movie Name  Year of Release  Watch Time  \\\n",
            "835         835  The Magnificent Seven             1960         128   \n",
            "696         696           My Fair Lady             1964         170   \n",
            "849         849              Malcolm X             1992         202   \n",
            "194         194              Andhadhun             2018         139   \n",
            "632         632            The Sandlot             1993         101   \n",
            "\n",
            "     Movie Rating  Metascore of movie  Gross   Votes  \\\n",
            "835           7.7                74.0   4.91  99,132   \n",
            "696           7.8                95.0  72.00  98,938   \n",
            "849           7.7                73.0  48.17  98,857   \n",
            "194           8.2                 NaN   1.37  98,180   \n",
            "632           7.8                55.0  32.42  98,129   \n",
            "\n",
            "                                           Description  \n",
            "835  Seven gunfighters are hired by Mexican peasant...  \n",
            "696  In 1910s London, snobbish phonetics professor ...  \n",
            "849  Biographical epic of the controversial and inf...  \n",
            "194  A series of mysterious events change the life ...  \n",
            "632  In the summer of 1962, a new kid in town is ta...  \n"
          ]
        }
      ]
    },
    {
      "cell_type": "code",
      "source": [
        "# Create a new column \"Earnings per Minute\"\n",
        "df[\"Earnings per Minute\"] = df[\"Gross\"] / df[\"Watch Time\"]"
      ],
      "metadata": {
        "id": "GWACaRF098O_"
      },
      "execution_count": 33,
      "outputs": []
    },
    {
      "cell_type": "code",
      "source": [
        "print(df)"
      ],
      "metadata": {
        "colab": {
          "base_uri": "https://localhost:8080/",
          "height": 0
        },
        "id": "s06Ttb96-H5D",
        "outputId": "520b8367-bf86-4cbd-9ac1-0bad7c05a641"
      },
      "execution_count": 34,
      "outputs": [
        {
          "output_type": "stream",
          "name": "stdout",
          "text": [
            "     Unnamed: 0                       Movie Name  Year of Release  Watch Time  \\\n",
            "0             0         The Shawshank Redemption             1994         142   \n",
            "1             1                    The Godfather             1972         175   \n",
            "2             2                  The Dark Knight             2008         152   \n",
            "3             3                 Schindler's List             1993         195   \n",
            "4             4                     12 Angry Men             1957          96   \n",
            "..          ...                              ...              ...         ...   \n",
            "995         995                        Philomena             2013          98   \n",
            "996         996  Un long dimanche de fiançailles             2004         133   \n",
            "997         997                            Shine             1996         105   \n",
            "998         998                The Invisible Man             1933          71   \n",
            "999         999                        Celda 211             2009         113   \n",
            "\n",
            "     Movie Rating  Metascore of movie   Gross      Votes  \\\n",
            "0             9.3                82.0   28.34  27,77,378   \n",
            "1             9.2               100.0  134.97  19,33,588   \n",
            "2             9.0                84.0  534.86  27,54,087   \n",
            "3             9.0                95.0   96.90  13,97,886   \n",
            "4             9.0                97.0    4.36   8,24,211   \n",
            "..            ...                 ...     ...        ...   \n",
            "995           7.6                77.0   37.71   1,02,336   \n",
            "996           7.6                76.0    6.17     75,004   \n",
            "997           7.6                87.0   35.81     55,589   \n",
            "998           7.6                87.0     NaN     37,822   \n",
            "999           7.6                 NaN     NaN     69,464   \n",
            "\n",
            "                                           Description  Earnings per Minute  \n",
            "0    Over the course of several years, two convicts...             0.199577  \n",
            "1    Don Vito Corleone, head of a mafia family, dec...             0.771257  \n",
            "2    When the menace known as the Joker wreaks havo...             3.518816  \n",
            "3    In German-occupied Poland during World War II,...             0.496923  \n",
            "4    The jury in a New York City murder trial is fr...             0.045417  \n",
            "..                                                 ...                  ...  \n",
            "995  A world-weary political journalist picks up th...             0.384796  \n",
            "996  Tells the story of a young woman's relentless ...             0.046391  \n",
            "997  Pianist David Helfgott, driven by his father a...             0.341048  \n",
            "998  A scientist finds a way of becoming invisible,...                  NaN  \n",
            "999  The story of two men on different sides of a p...                  NaN  \n",
            "\n",
            "[1000 rows x 10 columns]\n"
          ]
        }
      ]
    },
    {
      "cell_type": "code",
      "source": [
        "# Sort the dataset by \"Earnings per Minute\" in descending order\n",
        "sorted_df = df.sort_values(by=\"Earnings per Minute\", ascending=False)"
      ],
      "metadata": {
        "id": "FwBWWV9c-qZl"
      },
      "execution_count": 35,
      "outputs": []
    },
    {
      "cell_type": "code",
      "source": [
        "print(\"Sorted DataFrame:\")\n",
        "print(sorted_df)"
      ],
      "metadata": {
        "colab": {
          "base_uri": "https://localhost:8080/",
          "height": 0
        },
        "id": "0NTWI0TF_DO1",
        "outputId": "3c61a4f9-1c5f-4ead-92fd-f599596d5dd6"
      },
      "execution_count": 36,
      "outputs": [
        {
          "output_type": "stream",
          "name": "stdout",
          "text": [
            "Sorted DataFrame:\n",
            "     Unnamed: 0                                  Movie Name  Year of Release  \\\n",
            "635         635  Star Wars: Episode VII - The Force Awakens             2015   \n",
            "91           91                           Top Gun: Maverick             2022   \n",
            "142         142                     Spider-Man: No Way Home             2021   \n",
            "48           48                               The Lion King             1994   \n",
            "66           66                           Avengers: Endgame             2019   \n",
            "..          ...                                         ...              ...   \n",
            "979         979                                 Dark Waters             2019   \n",
            "983         983                       Rebel Without a Cause             1955   \n",
            "987         987                                     Sabrina             1954   \n",
            "998         998                           The Invisible Man             1933   \n",
            "999         999                                   Celda 211             2009   \n",
            "\n",
            "     Watch Time  Movie Rating  Metascore of movie   Gross      Votes  \\\n",
            "635         138           7.8                80.0  936.66   9,52,718   \n",
            "91          130           8.3                78.0  718.73   6,16,792   \n",
            "142         148           8.2                71.0  804.75   8,18,919   \n",
            "48           88           8.5                88.0  422.78  10,97,285   \n",
            "66          181           8.4                78.0  858.37  12,00,821   \n",
            "..          ...           ...                 ...     ...        ...   \n",
            "979         126           7.6                73.0     NaN     94,877   \n",
            "983         111           7.6                89.0     NaN     94,956   \n",
            "987         113           7.6                72.0     NaN     68,022   \n",
            "998          71           7.6                87.0     NaN     37,822   \n",
            "999         113           7.6                 NaN     NaN     69,464   \n",
            "\n",
            "                                           Description  Earnings per Minute  \n",
            "635  As a new threat to the galaxy rises, Rey, a de...             6.787391  \n",
            "91   After thirty years, Maverick is still pushing ...             5.528692  \n",
            "142  With Spider-Man's identity now revealed, Peter...             5.437500  \n",
            "48   Lion prince Simba and his father are targeted ...             4.804318  \n",
            "66   After the devastating events of Avengers: Infi...             4.742376  \n",
            "..                                                 ...                  ...  \n",
            "979  A corporate defense attorney takes on an envir...                  NaN  \n",
            "983  A rebellious young man with a troubled past co...                  NaN  \n",
            "987  A playboy becomes interested in the daughter o...                  NaN  \n",
            "998  A scientist finds a way of becoming invisible,...                  NaN  \n",
            "999  The story of two men on different sides of a p...                  NaN  \n",
            "\n",
            "[1000 rows x 10 columns]\n"
          ]
        }
      ]
    },
    {
      "cell_type": "code",
      "source": [
        "# Save the sorted DataFrame to a new CSV file\n",
        "sorted_df.to_csv(\"sorted_movies.csv\", index=False)"
      ],
      "metadata": {
        "id": "XD04bpsy_O0s"
      },
      "execution_count": 37,
      "outputs": []
    },
    {
      "cell_type": "code",
      "source": [
        "# Read the sorted DataFrame from the CSV file\n",
        "sorted_movies_df = pd.read_csv(\"sorted_movies.csv\")\n",
        "\n",
        "# Print the sorted DataFrame\n",
        "print(\"Sorted Movies DataFrame:\")\n",
        "print(sorted_movies_df)"
      ],
      "metadata": {
        "colab": {
          "base_uri": "https://localhost:8080/",
          "height": 0
        },
        "id": "UiqbDhew_ecI",
        "outputId": "9c2f15fd-cbc7-4976-9810-1bb28eb7101b"
      },
      "execution_count": 38,
      "outputs": [
        {
          "output_type": "stream",
          "name": "stdout",
          "text": [
            "Sorted Movies DataFrame:\n",
            "     Unnamed: 0                                  Movie Name  Year of Release  \\\n",
            "0           635  Star Wars: Episode VII - The Force Awakens             2015   \n",
            "1            91                           Top Gun: Maverick             2022   \n",
            "2           142                     Spider-Man: No Way Home             2021   \n",
            "3            48                               The Lion King             1994   \n",
            "4            66                           Avengers: Endgame             2019   \n",
            "..          ...                                         ...              ...   \n",
            "995         979                                 Dark Waters             2019   \n",
            "996         983                       Rebel Without a Cause             1955   \n",
            "997         987                                     Sabrina             1954   \n",
            "998         998                           The Invisible Man             1933   \n",
            "999         999                                   Celda 211             2009   \n",
            "\n",
            "     Watch Time  Movie Rating  Metascore of movie   Gross      Votes  \\\n",
            "0           138           7.8                80.0  936.66   9,52,718   \n",
            "1           130           8.3                78.0  718.73   6,16,792   \n",
            "2           148           8.2                71.0  804.75   8,18,919   \n",
            "3            88           8.5                88.0  422.78  10,97,285   \n",
            "4           181           8.4                78.0  858.37  12,00,821   \n",
            "..          ...           ...                 ...     ...        ...   \n",
            "995         126           7.6                73.0     NaN     94,877   \n",
            "996         111           7.6                89.0     NaN     94,956   \n",
            "997         113           7.6                72.0     NaN     68,022   \n",
            "998          71           7.6                87.0     NaN     37,822   \n",
            "999         113           7.6                 NaN     NaN     69,464   \n",
            "\n",
            "                                           Description  Earnings per Minute  \n",
            "0    As a new threat to the galaxy rises, Rey, a de...             6.787391  \n",
            "1    After thirty years, Maverick is still pushing ...             5.528692  \n",
            "2    With Spider-Man's identity now revealed, Peter...             5.437500  \n",
            "3    Lion prince Simba and his father are targeted ...             4.804318  \n",
            "4    After the devastating events of Avengers: Infi...             4.742376  \n",
            "..                                                 ...                  ...  \n",
            "995  A corporate defense attorney takes on an envir...                  NaN  \n",
            "996  A rebellious young man with a troubled past co...                  NaN  \n",
            "997  A playboy becomes interested in the daughter o...                  NaN  \n",
            "998  A scientist finds a way of becoming invisible,...                  NaN  \n",
            "999  The story of two men on different sides of a p...                  NaN  \n",
            "\n",
            "[1000 rows x 10 columns]\n"
          ]
        }
      ]
    },
    {
      "cell_type": "code",
      "source": [],
      "metadata": {
        "id": "ZCA6Uw9H_nk9"
      },
      "execution_count": null,
      "outputs": []
    }
  ]
}