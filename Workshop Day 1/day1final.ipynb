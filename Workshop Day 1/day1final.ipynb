{
  "nbformat": 4,
  "nbformat_minor": 0,
  "metadata": {
    "colab": {
      "provenance": []
    },
    "kernelspec": {
      "name": "python3",
      "display_name": "Python 3"
    },
    "language_info": {
      "name": "python"
    }
  },
  "cells": [
    {
      "cell_type": "code",
      "execution_count": 4,
      "metadata": {
        "colab": {
          "base_uri": "https://localhost:8080/"
        },
        "id": "uNJNapwr2nc7",
        "outputId": "545783a6-36cc-427a-8f71-d7845cd1c1c1"
      },
      "outputs": [
        {
          "output_type": "stream",
          "name": "stdout",
          "text": [
            "Enter the radius of the circle: 7.20\n",
            "The area of the circle with radius 7.2 is 162.86 square units\n",
            "\n",
            "Areas of circles with different radii:\n",
            "Radius 27.0: Area 2290.22 square units\n",
            "Radius 7.9: Area 196.07 square units\n",
            "Radius 6.4: Area 128.68 square units\n",
            "Radius 8.2: Area 211.24 square units\n",
            "Radius 1.44: Area 6.51 square units\n"
          ]
        }
      ],
      "source": [
        "import math\n",
        "import numpy as np\n",
        "\n",
        "def calculate_circle_area(radius):\n",
        "    return math.pi * radius ** 2\n",
        "\n",
        "radius_by_user = float(input(\"Enter the radius of the circle: \"))\n",
        "\n",
        "area = calculate_circle_area(radius_by_user)\n",
        "\n",
        "print(f\"The area of the circle with radius {radius_by_user} is {area:.2f} square units\")\n",
        "\n",
        "circle_data = {\n",
        "    'radius': radius_by_user,\n",
        "    'area': area\n",
        "}\n",
        "\n",
        "radius_values = np.array([27.0, 7.9, 6.4, 8.2, 1.44])\n",
        "\n",
        "areas = calculate_circle_area(radius_values)\n",
        "\n",
        "print(\"\\nAreas of circles with different radii:\")\n",
        "for i, radius in enumerate(radius_values):\n",
        "    print(f\"Radius {radius}: Area {areas[i]:.2f} square units\")\n"
      ]
    },
    {
      "cell_type": "code",
      "source": [
        "'''\n",
        "Q1. Write a Python program that calculates the area of a circle.\n",
        "Should include the following\n",
        "Get the radius from the user in float values\n",
        "Calculate the area\n",
        "Print the result\n",
        "Store the values as  dictionary with keys ‘radius’, ‘area’\n",
        "Create a numpy array with 5 values and find the area of circle for each values of the array.\n",
        "'''\n",
        "print(\"Answer for this is above\")"
      ],
      "metadata": {
        "colab": {
          "base_uri": "https://localhost:8080/"
        },
        "id": "-kI0rfnz3NP8",
        "outputId": "a86e319f-848e-4b3c-9281-b8da02fa29ea"
      },
      "execution_count": 3,
      "outputs": [
        {
          "output_type": "stream",
          "name": "stdout",
          "text": [
            "Answer for this is above\n"
          ]
        }
      ]
    },
    {
      "cell_type": "code",
      "source": [
        "'''\n",
        "\n",
        "Program to check it is divisible by 3 and 5\n",
        "\n",
        "'''\n",
        "\n",
        "number = int(input(\"Enter number: \"))\n",
        "if number % 3 == 0 and number % 5 == 0:\n",
        "    print(f\"{number} is divisible by both 3 and 5.\")\n",
        "else:\n",
        "    print(f\"{number} is not divisible by both 3 and 5.\")"
      ],
      "metadata": {
        "colab": {
          "base_uri": "https://localhost:8080/"
        },
        "id": "ew1rta-A3hsw",
        "outputId": "9011c2d1-99e8-487f-d57c-363c005b6b38"
      },
      "execution_count": 5,
      "outputs": [
        {
          "output_type": "stream",
          "name": "stdout",
          "text": [
            "Enter number: 60\n",
            "60 is divisible by both 3 and 5.\n"
          ]
        }
      ]
    },
    {
      "cell_type": "code",
      "source": [],
      "metadata": {
        "id": "fmDd3-CN40-s"
      },
      "execution_count": null,
      "outputs": []
    }
  ]
}