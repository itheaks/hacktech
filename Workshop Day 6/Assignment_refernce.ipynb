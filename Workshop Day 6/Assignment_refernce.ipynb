{
  "nbformat": 4,
  "nbformat_minor": 0,
  "metadata": {
    "colab": {
      "provenance": []
    },
    "kernelspec": {
      "name": "python3",
      "display_name": "Python 3"
    },
    "language_info": {
      "name": "python"
    }
  },
  "cells": [
    {
      "cell_type": "code",
      "execution_count": null,
      "metadata": {
        "id": "vKvQxULjjHHL"
      },
      "outputs": [],
      "source": [
        "videopath = 'place your video file path and file name here '\n",
        "%pylab inline\n",
        "import cv2\n",
        "from IPython.display import clear_output\n",
        "cmap = plt.get_cmap('tab20b')\n",
        "colors = [cmap(i)[:3] for i in np.linspace(0, 1, 20)]\n",
        "# initialize Sort object and video capture\n",
        "from sort import *\n",
        "vid = cv2.VideoCapture(videopath)\n",
        "mot_tracker = Sort()\n",
        "#while(True):\n",
        "for ii in range(40):\n",
        "    ret, frame = vid.read()\n",
        "    frame = cv2.cvtColor(frame, cv2.COLOR_BGR2RGB)\n",
        "    pilimg = Image.fromarray(frame)\n",
        "    detections = detect_image(pilimg)\n",
        "    img = np.array(pilimg)\n",
        "    pad_x = max(img.shape[0] - img.shape[1], 0) *\n",
        "            (img_size / max(img.shape))\n",
        "    pad_y = max(img.shape[1] - img.shape[0], 0) *\n",
        "            (img_size / max(img.shape))\n",
        "    unpad_h = img_size - pad_y\n",
        "    unpad_w = img_size - pad_x\n",
        "    if detections is not None:\n",
        "        tracked_objects = mot_tracker.update(detections.cpu())\n",
        "        unique_labels = detections[:, -1].cpu().unique()\n",
        "        n_cls_preds = len(unique_labels)\n",
        "        for x1, y1, x2, y2, obj_id, cls_pred in tracked_objects:\n",
        "            box_h = int(((y2 - y1) / unpad_h) * img.shape[0])\n",
        "            box_w = int(((x2 - x1) / unpad_w) * img.shape[1])\n",
        "            y1 = int(((y1 - pad_y // 2) / unpad_h) * img.shape[0])\n",
        "            x1 = int(((x1 - pad_x // 2) / unpad_w) * img.shape[1])\n",
        "            color = colors[int(obj_id) % len(colors)]\n",
        "            color = [i * 255 for i in color]\n",
        "            cls = classes[int(cls_pred)]\n",
        "            cv2.rectangle(frame, (x1, y1), (x1+box_w, y1+box_h),\n",
        "                         color, 4)\n",
        "            cv2.rectangle(frame, (x1, y1-35), (x1+len(cls)*19+60,\n",
        "                         y1), color, -1)\n",
        "            cv2.putText(frame, cls + \"-\" + str(int(obj_id)),\n",
        "                        (x1, y1 - 10), cv2.FONT_HERSHEY_SIMPLEX,\n",
        "                        1, (255,255,255), 3)\n",
        "    fig=figure(figsize=(12, 8))\n",
        "    title(\"Video Stream\")\n",
        "    imshow(frame)\n",
        "    show()\n",
        "    clear_output(wait=True)"
      ]
    }
  ]
}